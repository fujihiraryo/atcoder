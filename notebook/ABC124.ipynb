{
 "cells": [
  {
   "cell_type": "code",
   "execution_count": null,
   "metadata": {},
   "outputs": [],
   "source": [
    "def compress(list01):\n",
    "    newList=[]\n",
    "    n=len(list01)\n",
    "    now=1\n",
    "    count0=0\n",
    "    count1=0\n",
    "    list01.append((list01[-1]+1)%2)\n",
    "    for i in range(n+1):\n",
    "        nex=list01[i]\n",
    "        if now==0:\n",
    "            if nex==0:\n",
    "                count0+=1\n",
    "            if nex==1:\n",
    "                count1+=1\n",
    "                newList.append(count0)\n",
    "                count0=0\n",
    "        if now==1:\n",
    "            if nex==0:\n",
    "                count0+=1\n",
    "                newList.append(count1)\n",
    "                count1=0\n",
    "            if nex==1:\n",
    "                count1+=1\n",
    "        now=nex\n",
    "    if list01[-2]==0:\n",
    "        newList.append(0)\n",
    "    return newList\n",
    "\n",
    "def measure_insect(mixed_list,k):\n",
    "    n=(len(mixed_list)-1)//2\n",
    "    now=sum(mixed_list[:2*k+1])\n",
    "    maximum=now\n",
    "    for i in range(n-k):\n",
    "        now-=mixed_list[2*i]\n",
    "        now-=mixed_list[2*i+1]\n",
    "        now+=mixed_list[2*i+2*k+1]\n",
    "        now+=mixed_list[2*i+2*k+2]\n",
    "        if now>maximum:\n",
    "            maximum=now\n",
    "    return maximum\n",
    "\n",
    "N,K=map(int,input().split())\n",
    "S=[int(_) for _ in input()]\n",
    "\n",
    "print(measure_insect(compress(S),K))"
   ]
  }
 ],
 "metadata": {
  "kernelspec": {
   "display_name": "Python 3",
   "language": "python",
   "name": "python3"
  },
  "language_info": {
   "codemirror_mode": {
    "name": "ipython",
    "version": 3
   },
   "file_extension": ".py",
   "mimetype": "text/x-python",
   "name": "python",
   "nbconvert_exporter": "python",
   "pygments_lexer": "ipython3",
   "version": "3.7.2"
  }
 },
 "nbformat": 4,
 "nbformat_minor": 2
}
