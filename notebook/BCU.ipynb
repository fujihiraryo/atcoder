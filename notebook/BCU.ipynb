{
 "cells": [
  {
   "cell_type": "code",
   "execution_count": null,
   "metadata": {},
   "outputs": [],
   "source": [
    "N=int(input())\n",
    "A=[int(a) for a in input().split()]\n",
    "M=int(input())\n",
    "B=[int(b) for b in input().split()]\n",
    "A0=1\n",
    "B0=1\n",
    "for a in A:\n",
    "    A0*=a\n",
    "for b in B:\n",
    "    B0*=b\n",
    "if A0==B0:\n",
    "    print('Yes')\n",
    "else:\n",
    "    print('No')"
   ]
  },
  {
   "cell_type": "code",
   "execution_count": null,
   "metadata": {},
   "outputs": [],
   "source": [
    "[H,W]=[int(_) for _ in input().split()]\n",
    "s=[int(_)-1 for _ in input().split()]\n",
    "A=[list([int(a) for a in input().split()]) for _ in range(H)]\n",
    "flag=0\n",
    "x=s[0]\n",
    "y=s[1]\n",
    "B=[['.'] for h in range(H)]\n",
    "while flag==0:\n",
    "    B[x][y]='W'\n",
    "    a=A[x][y]\n",
    "    direction='-'\n",
    "    minimum=a\n",
    "    if x>0:\n",
    "        if A[x-1][y]<minimum:\n",
    "            minimum=A[x-1][y]\n",
    "            direction='up'\n",
    "    if y<W-1:\n",
    "        if A[x][y+1]<minimum:\n",
    "            minimum=A[x][y+1]\n",
    "            direction='right'\n",
    "    if x<H-1:\n",
    "        if A[x+1][y]<minimum:\n",
    "            minimum=A[x+1][y]\n",
    "            direction='down'\n",
    "    if y>0:\n",
    "        if A[x][y-1]<minimum:\n",
    "            minimum=A[x][y-1]\n",
    "            direction='left'\n",
    "    if direction=='up':\n",
    "        x=x-1\n",
    "    if direction=='right':\n",
    "        y=y+1\n",
    "    if direction=='down':\n",
    "        x=x+1\n",
    "    if direction=='left':\n",
    "        y=y-1\n",
    "    if direction=='-':\n",
    "        flag=1\n",
    "for b in B:\n",
    "    print(b)"
   ]
  },
  {
   "cell_type": "code",
   "execution_count": 1,
   "metadata": {},
   "outputs": [
    {
     "data": {
      "text/plain": [
       "'ab'"
      ]
     },
     "execution_count": 1,
     "metadata": {},
     "output_type": "execute_result"
    }
   ],
   "source": [
    "''.join(['a','b'])"
   ]
  },
  {
   "cell_type": "code",
   "execution_count": null,
   "metadata": {},
   "outputs": [],
   "source": []
  }
 ],
 "metadata": {
  "kernelspec": {
   "display_name": "Python 3",
   "language": "python",
   "name": "python3"
  },
  "language_info": {
   "codemirror_mode": {
    "name": "ipython",
    "version": 3
   },
   "file_extension": ".py",
   "mimetype": "text/x-python",
   "name": "python",
   "nbconvert_exporter": "python",
   "pygments_lexer": "ipython3",
   "version": "3.7.2"
  }
 },
 "nbformat": 4,
 "nbformat_minor": 2
}
