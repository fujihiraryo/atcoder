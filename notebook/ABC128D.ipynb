{
 "cells": [
  {
   "cell_type": "code",
   "execution_count": 1,
   "metadata": {},
   "outputs": [
    {
     "data": {
      "text/plain": [
       "[-2, 1, 3]"
      ]
     },
     "execution_count": 1,
     "metadata": {},
     "output_type": "execute_result"
    }
   ],
   "source": [
    "sorted([1,-2,3])"
   ]
  },
  {
   "cell_type": "code",
   "execution_count": 9,
   "metadata": {},
   "outputs": [
    {
     "name": "stdin",
     "output_type": "stream",
     "text": [
      " 6 4\n",
      " -10 8 2 1 2 6\n"
     ]
    },
    {
     "name": "stdout",
     "output_type": "stream",
     "text": [
      "a=0\n",
      "b=0\n",
      "[]\n",
      "[]\n",
      "0\n",
      "a=0\n",
      "b=1\n",
      "[6]\n",
      "[6]\n",
      "6\n",
      "a=0\n",
      "b=2\n",
      "[2, 6]\n",
      "[2, 6]\n",
      "8\n",
      "a=0\n",
      "b=3\n",
      "[1, 2, 6]\n",
      "[1, 2, 6]\n",
      "9\n",
      "a=0\n",
      "b=4\n",
      "[1, 2, 2, 6]\n",
      "[1, 2, 2, 6]\n",
      "11\n",
      "a=1\n",
      "b=0\n",
      "[-10]\n",
      "[]\n",
      "0\n",
      "a=1\n",
      "b=1\n",
      "[-10, 6]\n",
      "[6]\n",
      "6\n",
      "a=1\n",
      "b=2\n",
      "[-10, 2, 6]\n",
      "[2, 6]\n",
      "8\n",
      "a=1\n",
      "b=3\n",
      "[-10, 1, 2, 6]\n",
      "[-10, 1, 2, 6]\n",
      "-1\n",
      "a=2\n",
      "b=0\n",
      "[-10, 8]\n",
      "[8]\n",
      "8\n",
      "a=2\n",
      "b=1\n",
      "[-10, 6, 8]\n",
      "[6, 8]\n",
      "14\n",
      "a=2\n",
      "b=2\n",
      "[-10, 2, 6, 8]\n",
      "[-10, 2, 6, 8]\n",
      "6\n",
      "a=3\n",
      "b=0\n",
      "[-10, 2, 8]\n",
      "[2, 8]\n",
      "10\n",
      "a=3\n",
      "b=1\n",
      "[-10, 2, 6, 8]\n",
      "[-10, 2, 6, 8]\n",
      "6\n",
      "a=4\n",
      "b=0\n",
      "[-10, 1, 2, 8]\n",
      "[-10, 1, 2, 8]\n",
      "1\n",
      "14\n"
     ]
    }
   ],
   "source": [
    "N,K=map(int,input().split())\n",
    "V=list(map(int,input().split()))\n",
    "R=min(N,K)\n",
    "M=0\n",
    "for a in range(0,R+1):\n",
    "    for b in range(0,R-a+1):\n",
    "        left=V[0:a]\n",
    "        right=V[N-b:N]\n",
    "        getV=sorted(left+right)\n",
    "        for k in range(K-(a+b)):\n",
    "            if getV!=[] and getV[0]<0:\n",
    "                getV=getV[1:]\n",
    "        sumGetV=sum(getV)\n",
    "        if sumGetV>M:\n",
    "            M=sumGetV\n",
    "print(M)"
   ]
  },
  {
   "cell_type": "code",
   "execution_count": 10,
   "metadata": {},
   "outputs": [
    {
     "name": "stdin",
     "output_type": "stream",
     "text": [
      " 3 10\n"
     ]
    },
    {
     "name": "stdout",
     "output_type": "stream",
     "text": [
      "0\n"
     ]
    }
   ],
   "source": [
    "A,B = map(int,input().split())\n",
    "if A>=13:\n",
    "    print(B)\n",
    "elif 6<=A<=12:\n",
    "    print(B//2)\n",
    "else:\n",
    "    print(0)"
   ]
  },
  {
   "cell_type": "code",
   "execution_count": null,
   "metadata": {},
   "outputs": [],
   "source": [
    "r,D,x=map(int,input().split())\n",
    "for i in range(10):\n",
    "    x=r*x-D\n",
    "    print(x)"
   ]
  },
  {
   "cell_type": "code",
   "execution_count": 12,
   "metadata": {},
   "outputs": [
    {
     "data": {
      "text/plain": [
       "{2, 3}"
      ]
     },
     "execution_count": 12,
     "metadata": {},
     "output_type": "execute_result"
    }
   ],
   "source": [
    "set(range(1,3+1)) & set(range(2,5+1))"
   ]
  },
  {
   "cell_type": "code",
   "execution_count": 13,
   "metadata": {},
   "outputs": [
    {
     "data": {
      "text/plain": [
       "10"
      ]
     },
     "execution_count": 13,
     "metadata": {},
     "output_type": "execute_result"
    }
   ],
   "source": [
    "len(set(range(1,10+1)))"
   ]
  },
  {
   "cell_type": "code",
   "execution_count": 15,
   "metadata": {},
   "outputs": [
    {
     "name": "stdin",
     "output_type": "stream",
     "text": [
      " 4 2\n",
      " 1 3\n",
      " 2 4\n"
     ]
    },
    {
     "name": "stdout",
     "output_type": "stream",
     "text": [
      "2\n"
     ]
    }
   ],
   "source": [
    "N,M=map(int,input().split())\n",
    "L=[]\n",
    "R=[]\n",
    "for m in range(M):\n",
    "    Lm,Rm=map(int,input().split())\n",
    "    L.append(Lm)\n",
    "    R.append(Rm)\n",
    "maxL=max(L)\n",
    "minR=min(R)\n",
    "print(max(minR-maxL+1,0))"
   ]
  },
  {
   "cell_type": "code",
   "execution_count": 26,
   "metadata": {},
   "outputs": [
    {
     "data": {
      "text/plain": [
       "[]"
      ]
     },
     "execution_count": 26,
     "metadata": {},
     "output_type": "execute_result"
    }
   ],
   "source": [
    "[1,2,4][3:]"
   ]
  },
  {
   "cell_type": "code",
   "execution_count": 20,
   "metadata": {},
   "outputs": [
    {
     "name": "stdin",
     "output_type": "stream",
     "text": [
      " 11 3\n",
      " 1 1 1 1 1 1 1 1 1 1 1\n",
      " 3 100\n",
      " 4 100\n",
      " 3 100\n"
     ]
    },
    {
     "name": "stdout",
     "output_type": "stream",
     "text": [
      "1001\n"
     ]
    }
   ],
   "source": [
    "def main(A,D,N):\n",
    "    K=min(N,len(D))\n",
    "    for i in range(K):\n",
    "        if A[i]>D[i]:\n",
    "            return sum(D[:i]+A[i:])\n",
    "    return sum(D[:K]+A[K:])\n",
    "\n",
    "N,M=map(int,input().split())\n",
    "A=list(map(int,input().split()))\n",
    "A.sort()\n",
    "CB=[]\n",
    "for m in range(M):\n",
    "    b,c=map(int,input().split())\n",
    "    CB.append([c,b])\n",
    "CB.sort()\n",
    "CB.reverse()\n",
    "D=[]\n",
    "while len(D)<N and CB!=[]:\n",
    "    D.append(CB[0][0])\n",
    "    CB[0][1]-=1\n",
    "    if CB[0][1]==0:\n",
    "        CB.remove(CB[0])\n",
    "for cb in CB:\n",
    "    D+=[cb[0]]*cb[1]\n",
    "print(main(A,D,N))"
   ]
  },
  {
   "cell_type": "code",
   "execution_count": 1,
   "metadata": {},
   "outputs": [
    {
     "data": {
      "text/plain": [
       "2"
      ]
     },
     "execution_count": 1,
     "metadata": {},
     "output_type": "execute_result"
    }
   ],
   "source": [
    "1+1"
   ]
  },
  {
   "cell_type": "code",
   "execution_count": 4,
   "metadata": {},
   "outputs": [
    {
     "name": "stdout",
     "output_type": "stream",
     "text": [
      "[1, 2, 3, 4]\n"
     ]
    }
   ],
   "source": [
    "A=[1,4,3,2]\n",
    "A.sort()\n",
    "print(A)"
   ]
  },
  {
   "cell_type": "code",
   "execution_count": 15,
   "metadata": {},
   "outputs": [
    {
     "name": "stdout",
     "output_type": "stream",
     "text": [
      "[[3, 4], [1, 2]]\n"
     ]
    }
   ],
   "source": [
    "A=[[1,2],[3,4]]\n",
    "A.reverse()\n",
    "print(A)"
   ]
  },
  {
   "cell_type": "code",
   "execution_count": 22,
   "metadata": {},
   "outputs": [
    {
     "name": "stdin",
     "output_type": "stream",
     "text": [
      " 3 2\n",
      " 5 1 4\n",
      " 2 3\n",
      " 1 5\n"
     ]
    },
    {
     "name": "stdout",
     "output_type": "stream",
     "text": [
      "14\n"
     ]
    }
   ],
   "source": [
    "N,M=map(int,input().split())\n",
    "A=list(map(int,input().split()))\n",
    "D=[]\n",
    "for m in range(M):\n",
    "    b,c=map(int,input().split())\n",
    "    D+=[c]*b\n",
    "    if len(D)>N:\n",
    "        break\n",
    "A.sort()\n",
    "D.sort(reverse=True)\n",
    "print(A)\n",
    "print(D)\n",
    "for i in range(min(len(A),len(D))):\n",
    "    if A[i]>D[i]:\n",
    "        break\n",
    "print(D[:i])\n",
    "print(A[i:])\n",
    "print(sum(D[:i]+A[i:]))"
   ]
  },
  {
   "cell_type": "code",
   "execution_count": null,
   "metadata": {},
   "outputs": [],
   "source": [
    "N,M=map(int,input().split())\n",
    "A=list(map(int,input().split()))\n",
    "\n",
    "BC=[]\n",
    "for m in range(M):\n",
    "    b,c=map(int,input().split())\n",
    "    BC.append([b,c])\n",
    "\n",
    "A.sort()\n",
    "BC.sort(key=lambda x:x[1],reverse=True)\n",
    "\n",
    "D=[]\n",
    "for [b,c] in BC:\n",
    "    D+=[c]*b\n",
    "    if len(D)>N:\n",
    "        break\n",
    "\n",
    "if len(D)<N:\n",
    "    D+=[0]*(N-len(D))\n",
    "\n",
    "for i in range(N):\n",
    "    if A[i]>D[i]:\n",
    "        break\n",
    "\n",
    "print(D[:i]+A[i:])\n",
    "print(sum(D[:i]+A[i:]))"
   ]
  },
  {
   "cell_type": "code",
   "execution_count": 21,
   "metadata": {},
   "outputs": [
    {
     "name": "stdout",
     "output_type": "stream",
     "text": [
      "1 2\n",
      "2 3\n",
      "3 4\n"
     ]
    }
   ],
   "source": [
    "AA=[[1,2],[2,3],[3,4]]\n",
    "for [a,b] in AA:\n",
    "    print(a,b)"
   ]
  },
  {
   "cell_type": "code",
   "execution_count": 28,
   "metadata": {},
   "outputs": [
    {
     "name": "stdout",
     "output_type": "stream",
     "text": [
      "[]\n",
      "0\n"
     ]
    }
   ],
   "source": [
    "A=[]\n",
    "D=[1,2,3,4]\n",
    "i=0\n",
    "for i in range(min(len(A),len(D))):\n",
    "    if A[i]>D[i]:\n",
    "        break\n",
    "print(D[:i]+A[i:])\n",
    "print(sum(D[:i]+A[i:]))"
   ]
  },
  {
   "cell_type": "code",
   "execution_count": 31,
   "metadata": {},
   "outputs": [
    {
     "data": {
      "text/plain": [
       "[0, 0, 0, 0, 0]"
      ]
     },
     "execution_count": 31,
     "metadata": {},
     "output_type": "execute_result"
    }
   ],
   "source": [
    "[0 for i in range(10) if i%2==0]"
   ]
  },
  {
   "cell_type": "code",
   "execution_count": 43,
   "metadata": {},
   "outputs": [
    {
     "name": "stdout",
     "output_type": "stream",
     "text": [
      "18\n",
      "[8, 5, 4, 1]\n"
     ]
    }
   ],
   "source": [
    "A=[1,2,3,4]\n",
    "D=[8,5,4,1]\n",
    "        \n",
    "for i in range(N):\n",
    "    if :\n",
    "        break\n",
    "\n",
    "print(sum(D[:i+1]+A[i+1:]))\n",
    "print(D[:i+1]+A[i+1:])"
   ]
  },
  {
   "cell_type": "code",
   "execution_count": 46,
   "metadata": {},
   "outputs": [
    {
     "name": "stdin",
     "output_type": "stream",
     "text": [
      " 4 3\n",
      " CABA\n"
     ]
    },
    {
     "name": "stdout",
     "output_type": "stream",
     "text": [
      "CAbA\n"
     ]
    }
   ],
   "source": [
    "N,K=map(int,input().split())\n",
    "S=input()\n",
    "K=K-1\n",
    "def change(char):\n",
    "    if char==\"A\":\n",
    "        return \"a\"\n",
    "    if char==\"B\":\n",
    "        return \"b\"\n",
    "    if char==\"C\":\n",
    "        return \"c\"\n",
    "print(S[:K]+change(S[K])+S[K+1:])"
   ]
  },
  {
   "cell_type": "code",
   "execution_count": 49,
   "metadata": {},
   "outputs": [
    {
     "data": {
      "text/plain": [
       "'AA'"
      ]
     },
     "execution_count": 49,
     "metadata": {},
     "output_type": "execute_result"
    }
   ],
   "source": [
    "\"Aa\".upper()"
   ]
  },
  {
   "cell_type": "code",
   "execution_count": 53,
   "metadata": {},
   "outputs": [
    {
     "name": "stdin",
     "output_type": "stream",
     "text": [
      " 1700\n"
     ]
    },
    {
     "name": "stdout",
     "output_type": "stream",
     "text": [
      "NA\n"
     ]
    }
   ],
   "source": [
    "def judge(S):\n",
    "    a=int(S[:2])\n",
    "    b=int(S[2:])\n",
    "    if 1<=a<=12 and 1<=b<=12:\n",
    "        return \"AMBIGUOUS\"\n",
    "    elif 1<=a<=12:\n",
    "        return \"MMYY\"\n",
    "    elif 1<=b<=12:\n",
    "        return \"YYMM\"\n",
    "    else:\n",
    "        return \"NA\"\n",
    "\n",
    "S=input()\n",
    "print(judge(S))"
   ]
  },
  {
   "cell_type": "code",
   "execution_count": 56,
   "metadata": {},
   "outputs": [
    {
     "name": "stdin",
     "output_type": "stream",
     "text": [
      " 10000 5\n"
     ]
    },
    {
     "name": "stdout",
     "output_type": "stream",
     "text": [
      "0.9997374999999062\n"
     ]
    }
   ],
   "source": [
    "N,K=map(int,input().split())\n",
    "p=0\n",
    "for i in range(1,N+1):\n",
    "    coin=0\n",
    "    while i*2**coin<K:\n",
    "        coin+=1\n",
    "    p+=(1/N)*(1/2)**coin\n",
    "print(p)"
   ]
  },
  {
   "cell_type": "code",
   "execution_count": 55,
   "metadata": {},
   "outputs": [
    {
     "name": "stdout",
     "output_type": "stream",
     "text": [
      "0.14583333333333331\n"
     ]
    }
   ],
   "source": [
    "print(p)"
   ]
  },
  {
   "cell_type": "code",
   "execution_count": null,
   "metadata": {},
   "outputs": [],
   "source": [
    "N=int(input())\n",
    "Tree=[[] for n in range(N)]\n",
    "for n in range(N-1):\n",
    "    u,v,w=map(int,input().split())\n",
    "    Tree[u-1].append([v-1,w])\n",
    "    Tree[v-1].append([u-1,w])\n",
    "print(Tree)\n",
    "    "
   ]
  }
 ],
 "metadata": {
  "kernelspec": {
   "display_name": "Python 3",
   "language": "python",
   "name": "python3"
  },
  "language_info": {
   "codemirror_mode": {
    "name": "ipython",
    "version": 3
   },
   "file_extension": ".py",
   "mimetype": "text/x-python",
   "name": "python",
   "nbconvert_exporter": "python",
   "pygments_lexer": "ipython3",
   "version": "3.7.2"
  }
 },
 "nbformat": 4,
 "nbformat_minor": 2
}
