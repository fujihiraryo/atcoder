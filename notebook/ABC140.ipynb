{
 "cells": [
  {
   "cell_type": "code",
   "execution_count": null,
   "metadata": {},
   "outputs": [],
   "source": [
    "N=int(input())\n",
    "A=list(map(int,input().split()))\n",
    "B=list(map(int,input().split()))\n",
    "C=list(map(int,input().split()))\n",
    "point=B[A[0]-1]\n",
    "for n in range(N-1):\n",
    "    left=A[n]\n",
    "    right=A[n+1]\n",
    "    point+=B[right-1]\n",
    "    if right==left+1:\n",
    "        point+=C[left-1]\n",
    "print(point)"
   ]
  },
  {
   "cell_type": "code",
   "execution_count": 9,
   "metadata": {},
   "outputs": [
    {
     "name": "stdin",
     "output_type": "stream",
     "text": [
      " 3\n",
      " 2 5\n"
     ]
    },
    {
     "name": "stdout",
     "output_type": "stream",
     "text": [
      "9\n"
     ]
    }
   ],
   "source": [
    "N=int(input())\n",
    "B=list(map(int,input().split()))\n",
    "point=B[0]\n",
    "for n in range(N-2):\n",
    "    left=B[n]\n",
    "    right=B[n+1]\n",
    "    point+=min(left,right)\n",
    "point+=B[N-2]\n",
    "print(point)"
   ]
  },
  {
   "cell_type": "code",
   "execution_count": 11,
   "metadata": {},
   "outputs": [],
   "source": [
    "def happiness(line):\n",
    "    L=len(line)\n",
    "    point=0\n",
    "    for l in range(L-1):\n",
    "        left=line[l]\n",
    "        right=line[l+1]\n",
    "        if left==right:\n",
    "            point+=1\n",
    "    return point"
   ]
  },
  {
   "cell_type": "code",
   "execution_count": 14,
   "metadata": {},
   "outputs": [
    {
     "data": {
      "text/plain": [
       "9"
      ]
     },
     "execution_count": 14,
     "metadata": {},
     "output_type": "execute_result"
    }
   ],
   "source": [
    "happiness('LLLLLLLLLL')"
   ]
  },
  {
   "cell_type": "code",
   "execution_count": 19,
   "metadata": {},
   "outputs": [
    {
     "name": "stdin",
     "output_type": "stream",
     "text": [
      " 6 1\n",
      " LRLRRL\n"
     ]
    },
    {
     "name": "stdout",
     "output_type": "stream",
     "text": [
      "3\n"
     ]
    }
   ],
   "source": [
    "N,K=map(int,input().split())\n",
    "S=input()\n",
    "initial=S[0]\n",
    "S01=[]\n",
    "if initial=='L':\n",
    "    for s in S:\n",
    "        if s=='L':\n",
    "            S01.append(0)\n",
    "        else:\n",
    "            S01.append(1)\n",
    "else:\n",
    "    for s in S:\n",
    "        if s=='R':\n",
    "            S01.append(0)\n",
    "        else:\n",
    "            S01.append(1)\n",
    "            \n",
    "count=0\n",
    "T01=[0]\n",
    "flag=0\n",
    "for n in range(N-1):\n",
    "    left=S01[n]\n",
    "    right=S01[n+1]\n",
    "    if left==0 and right==1:\n",
    "        flag=1\n",
    "    if left==1 and right==0:\n",
    "        flag=0\n",
    "        count+=1\n",
    "    \n",
    "    if flag==0:\n",
    "        T01.append(0)\n",
    "    elif count<K:\n",
    "        T01.append(0)\n",
    "    else:\n",
    "        T01.append(1)\n",
    "    \n",
    "            \n",
    "point=0\n",
    "for n in range(N-1):\n",
    "    left=T01[n]\n",
    "    right=T01[n+1]\n",
    "    if left==right:\n",
    "        point+=1\n",
    "\n",
    "print(point)"
   ]
  },
  {
   "cell_type": "code",
   "execution_count": null,
   "metadata": {},
   "outputs": [],
   "source": []
  }
 ],
 "metadata": {
  "kernelspec": {
   "display_name": "Python 3",
   "language": "python",
   "name": "python3"
  },
  "language_info": {
   "codemirror_mode": {
    "name": "ipython",
    "version": 3
   },
   "file_extension": ".py",
   "mimetype": "text/x-python",
   "name": "python",
   "nbconvert_exporter": "python",
   "pygments_lexer": "ipython3",
   "version": "3.7.2"
  }
 },
 "nbformat": 4,
 "nbformat_minor": 2
}
