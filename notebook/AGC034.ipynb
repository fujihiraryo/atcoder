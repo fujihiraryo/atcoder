{
 "cells": [
  {
   "cell_type": "code",
   "execution_count": 3,
   "metadata": {},
   "outputs": [],
   "source": [
    "def passable(road):\n",
    "    n=len(road)\n",
    "    for i in range(n-1):\n",
    "        block=road[i:i+2]\n",
    "        if block=='##':\n",
    "            return False\n",
    "    return True"
   ]
  },
  {
   "cell_type": "code",
   "execution_count": 5,
   "metadata": {},
   "outputs": [
    {
     "data": {
      "text/plain": [
       "False"
      ]
     },
     "execution_count": 5,
     "metadata": {},
     "output_type": "execute_result"
    }
   ],
   "source": [
    "passable('.##.#.#.')"
   ]
  },
  {
   "cell_type": "code",
   "execution_count": 6,
   "metadata": {},
   "outputs": [],
   "source": [
    "def safe_place(road):\n",
    "    n=len(road)\n",
    "    for i in range(n-2):\n",
    "        block=road[i:i+3]\n",
    "        if block=='...':\n",
    "            return i+1\n",
    "    return -1"
   ]
  },
  {
   "cell_type": "code",
   "execution_count": 7,
   "metadata": {},
   "outputs": [
    {
     "data": {
      "text/plain": [
       "5"
      ]
     },
     "execution_count": 7,
     "metadata": {},
     "output_type": "execute_result"
    }
   ],
   "source": [
    "safe_place('.#.#...#.#..')"
   ]
  },
  {
   "cell_type": "code",
   "execution_count": 33,
   "metadata": {},
   "outputs": [
    {
     "name": "stdin",
     "output_type": "stream",
     "text": [
      " 6 1 2 6 5\n",
      " ..#...\n"
     ]
    },
    {
     "name": "stdout",
     "output_type": "stream",
     "text": [
      "Yes\n"
     ]
    }
   ],
   "source": [
    "def passable(road):\n",
    "    n=len(road)\n",
    "    for i in range(n-1):\n",
    "        block=road[i:i+2]\n",
    "        if block=='##':\n",
    "            return False\n",
    "    return True\n",
    "\n",
    "def blank(road):\n",
    "    n=len(road)\n",
    "    for i in range(1,n-1):\n",
    "        block=road[i-1:i+2]\n",
    "        if block=='...':\n",
    "            return True\n",
    "    return False\n",
    "\n",
    "def judge(A,B,C,D,S):\n",
    "    if C<D:\n",
    "        return passable(S[A:C+1]) and passable(S[B:D+1])\n",
    "    else:\n",
    "        return passable(S[A:C+1]) and passable(S[B:D+1]) and blank(S[B-1:D+2])\n",
    "N,A,B,C,D=map(int,input().split())\n",
    "S=input()\n",
    "if judge(A-1,B-1,C-1,D-1,S):\n",
    "    print('Yes')\n",
    "else:\n",
    "    print('No')"
   ]
  },
  {
   "cell_type": "code",
   "execution_count": 21,
   "metadata": {},
   "outputs": [
    {
     "data": {
      "text/plain": [
       "True"
      ]
     },
     "execution_count": 21,
     "metadata": {},
     "output_type": "execute_result"
    }
   ],
   "source": [
    "judge(1,2,6,5,'..#...')"
   ]
  },
  {
   "cell_type": "code",
   "execution_count": 22,
   "metadata": {},
   "outputs": [],
   "source": [
    "def passEach(A,B,C,D,road):\n",
    "    if passable(road[A:C+1]) and passable(road[B:D+1]):\n",
    "        return True\n",
    "    else:\n",
    "        return False"
   ]
  },
  {
   "cell_type": "code",
   "execution_count": 23,
   "metadata": {},
   "outputs": [
    {
     "data": {
      "text/plain": [
       "True"
      ]
     },
     "execution_count": 23,
     "metadata": {},
     "output_type": "execute_result"
    }
   ],
   "source": [
    "passEach(0,1,5,4,'..#...')"
   ]
  },
  {
   "cell_type": "code",
   "execution_count": 24,
   "metadata": {},
   "outputs": [
    {
     "data": {
      "text/plain": [
       "4"
      ]
     },
     "execution_count": 24,
     "metadata": {},
     "output_type": "execute_result"
    }
   ],
   "source": [
    "safe_place('###...##....')"
   ]
  },
  {
   "cell_type": "code",
   "execution_count": 27,
   "metadata": {},
   "outputs": [],
   "source": [
    "S='..#..'\n",
    "S2=S[:1]+'#'+S[2:]"
   ]
  },
  {
   "cell_type": "code",
   "execution_count": 28,
   "metadata": {},
   "outputs": [
    {
     "data": {
      "text/plain": [
       "'.##..'"
      ]
     },
     "execution_count": 28,
     "metadata": {},
     "output_type": "execute_result"
    }
   ],
   "source": [
    "S2"
   ]
  },
  {
   "cell_type": "code",
   "execution_count": 34,
   "metadata": {},
   "outputs": [],
   "source": [
    "def blank(road):\n",
    "    n=len(road)\n",
    "    road='.'+road+'.'\n",
    "    for i in range(1,n):\n",
    "        block=road[i-1:i+2]\n",
    "        if block=='...':\n",
    "            return True\n",
    "    return False"
   ]
  },
  {
   "cell_type": "code",
   "execution_count": 36,
   "metadata": {},
   "outputs": [
    {
     "data": {
      "text/plain": [
       "True"
      ]
     },
     "execution_count": 36,
     "metadata": {},
     "output_type": "execute_result"
    }
   ],
   "source": [
    "blank('..#')"
   ]
  },
  {
   "cell_type": "code",
   "execution_count": 37,
   "metadata": {},
   "outputs": [],
   "source": []
  },
  {
   "cell_type": "code",
   "execution_count": 46,
   "metadata": {},
   "outputs": [],
   "source": []
  },
  {
   "cell_type": "code",
   "execution_count": 53,
   "metadata": {},
   "outputs": [],
   "source": []
  },
  {
   "cell_type": "code",
   "execution_count": null,
   "metadata": {},
   "outputs": [],
   "source": [
    "def BC2D(s):\n",
    "    n=len(s)\n",
    "    index=[]\n",
    "    for i in range(n-1):\n",
    "        if s[i:i+2]=='BC':\n",
    "            index.append(i)\n",
    "    new_s=''\n",
    "    for i in range(n):\n",
    "        if i in index:\n",
    "            new_s+='D'\n",
    "        elif i-1 in index:\n",
    "            new_s+=''\n",
    "        else:\n",
    "            new_s+=s[i]\n",
    "    return new_s\n",
    "\n",
    "def partition(s):\n",
    "    s='B'+s+'C'\n",
    "    group=[]\n",
    "    n=len(s)\n",
    "    left=0\n",
    "    right=0\n",
    "    for i in range(n-1):\n",
    "        block=s[i:i+2]\n",
    "        if block[0] in ['B','C'] and block[1] in ['A','D']:\n",
    "            left=i\n",
    "        if block[0] in ['A','D'] and block[1] in ['B','C']:\n",
    "            right=i\n",
    "            group.append(s[left:right+1])\n",
    "    return group\n",
    "\n",
    "def turningNo(s):\n",
    "    totalCount=0\n",
    "    count=0\n",
    "    n=len(s)\n",
    "    s=s[::-1]\n",
    "    for i in range(n):\n",
    "        if s[i]=='A':\n",
    "            totalCount+=count\n",
    "        if s[i]=='D':\n",
    "            count+=1\n",
    "    return totalCount\n",
    "\n",
    "s=input()\n",
    "s=BC2D(s)\n",
    "G=partition(s)\n",
    "answer=0\n",
    "for element in G:\n",
    "    answer+=turningNo(element)\n",
    "print(answer)"
   ]
  },
  {
   "cell_type": "code",
   "execution_count": 57,
   "metadata": {},
   "outputs": [
    {
     "data": {
      "text/plain": [
       "2"
      ]
     },
     "execution_count": 57,
     "metadata": {},
     "output_type": "execute_result"
    }
   ],
   "source": [
    "turningNo('ADDA')"
   ]
  },
  {
   "cell_type": "code",
   "execution_count": 47,
   "metadata": {},
   "outputs": [
    {
     "data": {
      "text/plain": [
       "['AD', 'DDA']"
      ]
     },
     "execution_count": 47,
     "metadata": {},
     "output_type": "execute_result"
    }
   ],
   "source": [
    "partition('ADBBCDDA')"
   ]
  },
  {
   "cell_type": "code",
   "execution_count": 39,
   "metadata": {},
   "outputs": [
    {
     "data": {
      "text/plain": [
       "'ADDDCDBBDCC'"
      ]
     },
     "execution_count": 39,
     "metadata": {},
     "output_type": "execute_result"
    }
   ],
   "source": [
    "BC2D('ABCDBCCBCBBBCCC')"
   ]
  },
  {
   "cell_type": "code",
   "execution_count": 58,
   "metadata": {},
   "outputs": [],
   "source": [
    "def BC2D(s):\n",
    "    n=len(s)\n",
    "    index=[]\n",
    "    for i in range(n-1):\n",
    "        if s[i:i+2]=='BC':\n",
    "            index.append(i)\n",
    "    new_s=''\n",
    "    for i in range(n):\n",
    "        if i in index:\n",
    "            new_s+='D'\n",
    "        elif i-1 in index:\n",
    "            new_s+=''\n",
    "        else:\n",
    "            new_s+=s[i]\n",
    "    return new_s\n",
    "\n",
    "def partition(s):\n",
    "    s='B'+s+'C'\n",
    "    group=[]\n",
    "    n=len(s)\n",
    "    left=0\n",
    "    right=0\n",
    "    for i in range(n-1):\n",
    "        block=s[i:i+2]\n",
    "        if block[0] in ['B','C'] and block[1] in ['A','D']:\n",
    "            left=i\n",
    "        if block[0] in ['A','D'] and block[1] in ['B','C']:\n",
    "            right=i\n",
    "            group.append(s[left:right+1])\n",
    "    return group\n",
    "\n",
    "def turningNo(s):\n",
    "    totalCount=0\n",
    "    count=0\n",
    "    n=len(s)\n",
    "    s=s[::-1]\n",
    "    for i in range(n):\n",
    "        if s[i]=='A':\n",
    "            totalCount+=count\n",
    "        if s[i]=='D':\n",
    "            count+=1\n",
    "    return totalCount\n"
   ]
  },
  {
   "cell_type": "code",
   "execution_count": 60,
   "metadata": {},
   "outputs": [
    {
     "data": {
      "text/plain": [
       "7"
      ]
     },
     "execution_count": 60,
     "metadata": {},
     "output_type": "execute_result"
    }
   ],
   "source": [
    "turningNo('ADDDADDA')"
   ]
  },
  {
   "cell_type": "code",
   "execution_count": 61,
   "metadata": {},
   "outputs": [
    {
     "data": {
      "text/plain": [
       "['BAD', 'CDD', 'CAAAA', 'BDD']"
      ]
     },
     "execution_count": 61,
     "metadata": {},
     "output_type": "execute_result"
    }
   ],
   "source": [
    "partition('ADBBCDDBCCAAAACBBDD')"
   ]
  },
  {
   "cell_type": "code",
   "execution_count": 62,
   "metadata": {},
   "outputs": [
    {
     "data": {
      "text/plain": [
       "'ADCBDAACCDDA'"
      ]
     },
     "execution_count": 62,
     "metadata": {},
     "output_type": "execute_result"
    }
   ],
   "source": [
    "'ABCCBBCAACCBCBCA'.replace(\"BC\",\"D\")"
   ]
  },
  {
   "cell_type": "code",
   "execution_count": 63,
   "metadata": {},
   "outputs": [
    {
     "name": "stdout",
     "output_type": "stream",
     "text": [
      "aabb\n"
     ]
    }
   ],
   "source": [
    "a='aabb'\n",
    "a.replace(\"b\",\"a\")\n",
    "print(a)"
   ]
  },
  {
   "cell_type": "code",
   "execution_count": 66,
   "metadata": {},
   "outputs": [
    {
     "name": "stdin",
     "output_type": "stream",
     "text": [
      " ABCACCBABCBCAABCB\n"
     ]
    },
    {
     "name": "stdout",
     "output_type": "stream",
     "text": [
      "6\n"
     ]
    }
   ],
   "source": [
    "s=input()\n",
    "s=s.replace(\"BC\",\"D\")\n",
    "totalCount=0\n",
    "count=0\n",
    "for char in s:\n",
    "    if char==\"A\":\n",
    "        count+=1\n",
    "    elif char==\"D\":\n",
    "        totalCount+=count\n",
    "    else:\n",
    "        count=0\n",
    "print(totalCount)"
   ]
  },
  {
   "cell_type": "code",
   "execution_count": null,
   "metadata": {},
   "outputs": [],
   "source": []
  }
 ],
 "metadata": {
  "kernelspec": {
   "display_name": "Python 3",
   "language": "python",
   "name": "python3"
  },
  "language_info": {
   "codemirror_mode": {
    "name": "ipython",
    "version": 3
   },
   "file_extension": ".py",
   "mimetype": "text/x-python",
   "name": "python",
   "nbconvert_exporter": "python",
   "pygments_lexer": "ipython3",
   "version": "3.7.2"
  }
 },
 "nbformat": 4,
 "nbformat_minor": 2
}
