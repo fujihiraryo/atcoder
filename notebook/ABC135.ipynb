{
 "cells": [
  {
   "cell_type": "code",
   "execution_count": 12,
   "metadata": {},
   "outputs": [
    {
     "name": "stdin",
     "output_type": "stream",
     "text": [
      " 998244353 99824435\n"
     ]
    },
    {
     "name": "stdout",
     "output_type": "stream",
     "text": [
      "549034394\n"
     ]
    }
   ],
   "source": [
    "A,B=map(int,input().split())\n",
    "if (A+B)%2!=0:\n",
    "    print('IMPOSSIBLE')\n",
    "else:\n",
    "    print((A+B)//2)"
   ]
  },
  {
   "cell_type": "code",
   "execution_count": 23,
   "metadata": {},
   "outputs": [
    {
     "name": "stdin",
     "output_type": "stream",
     "text": [
      " 5\n",
      " 2 4 3 5 1\n"
     ]
    },
    {
     "name": "stdout",
     "output_type": "stream",
     "text": [
      "NO\n"
     ]
    }
   ],
   "source": [
    "import copy\n",
    "N=int(input())\n",
    "p=[int(_) for _ in input().split()]\n",
    "sorted_p=sorted(p)\n",
    "if p==sorted_p:\n",
    "    print('YES')\n",
    "else:\n",
    "    flag=0\n",
    "    for i in range(N):\n",
    "        for j in range(N):\n",
    "            new_p=copy.copy(p)\n",
    "            new_p[i]=p[j]\n",
    "            new_p[j]=p[i]\n",
    "            if new_p==sorted_p:\n",
    "                flag=1\n",
    "    if flag==0:\n",
    "        print('NO')\n",
    "    else:\n",
    "        print('YES')"
   ]
  },
  {
   "cell_type": "code",
   "execution_count": 20,
   "metadata": {},
   "outputs": [
    {
     "data": {
      "text/plain": [
       "[1, 2, 3]"
      ]
     },
     "execution_count": 20,
     "metadata": {},
     "output_type": "execute_result"
    }
   ],
   "source": [
    "p=[1,2,3]\n",
    "sorted(p)"
   ]
  },
  {
   "cell_type": "code",
   "execution_count": 19,
   "metadata": {},
   "outputs": [
    {
     "data": {
      "text/plain": [
       "[1, 2, 3]"
      ]
     },
     "execution_count": 19,
     "metadata": {},
     "output_type": "execute_result"
    }
   ],
   "source": [
    "p"
   ]
  },
  {
   "cell_type": "code",
   "execution_count": 24,
   "metadata": {},
   "outputs": [],
   "source": [
    "p=[50-i for i in range(50)]"
   ]
  },
  {
   "cell_type": "code",
   "execution_count": 25,
   "metadata": {},
   "outputs": [
    {
     "data": {
      "text/plain": [
       "[50,\n",
       " 49,\n",
       " 48,\n",
       " 47,\n",
       " 46,\n",
       " 45,\n",
       " 44,\n",
       " 43,\n",
       " 42,\n",
       " 41,\n",
       " 40,\n",
       " 39,\n",
       " 38,\n",
       " 37,\n",
       " 36,\n",
       " 35,\n",
       " 34,\n",
       " 33,\n",
       " 32,\n",
       " 31,\n",
       " 30,\n",
       " 29,\n",
       " 28,\n",
       " 27,\n",
       " 26,\n",
       " 25,\n",
       " 24,\n",
       " 23,\n",
       " 22,\n",
       " 21,\n",
       " 20,\n",
       " 19,\n",
       " 18,\n",
       " 17,\n",
       " 16,\n",
       " 15,\n",
       " 14,\n",
       " 13,\n",
       " 12,\n",
       " 11,\n",
       " 10,\n",
       " 9,\n",
       " 8,\n",
       " 7,\n",
       " 6,\n",
       " 5,\n",
       " 4,\n",
       " 3,\n",
       " 2,\n",
       " 1]"
      ]
     },
     "execution_count": 25,
     "metadata": {},
     "output_type": "execute_result"
    }
   ],
   "source": [
    "p"
   ]
  },
  {
   "cell_type": "code",
   "execution_count": 34,
   "metadata": {},
   "outputs": [
    {
     "name": "stdout",
     "output_type": "stream",
     "text": [
      "1 2 3 4 5 6 7 8 9 10 11 12 13 14 15 16 17 18 19 20 21 22 23 24 25 26 27 28 29 30 31 32 33 34 35 36 37 38 39 40 41 42 43 44 45 46 47 48 49 50 "
     ]
    }
   ],
   "source": [
    "p.sort()\n",
    "for _ in p:\n",
    "    print(_ ,end=' ')"
   ]
  },
  {
   "cell_type": "code",
   "execution_count": 6,
   "metadata": {},
   "outputs": [
    {
     "name": "stdin",
     "output_type": "stream",
     "text": [
      " 2\n",
      " 100 1 1\n",
      " 1 100\n"
     ]
    },
    {
     "name": "stdout",
     "output_type": "stream",
     "text": [
      "3\n"
     ]
    }
   ],
   "source": [
    "N=int(input())\n",
    "A=list(map(int,input().split()))\n",
    "B=list(map(int,input().split()))\n",
    "B+=[0]\n",
    "count=0\n",
    "power0=0\n",
    "for n in range(N+1):\n",
    "    enemy=A[n]\n",
    "    power1=B[n]\n",
    "    if power0+power1>=enemy:\n",
    "        count+=enemy\n",
    "        power0=power1-max(enemy-power0,0)\n",
    "    else:\n",
    "        count+=power0+power1\n",
    "        power0=0\n",
    "print(count)"
   ]
  },
  {
   "cell_type": "code",
   "execution_count": 8,
   "metadata": {},
   "outputs": [
    {
     "name": "stdout",
     "output_type": "stream",
     "text": [
      "2\n",
      "12\n",
      "9\n",
      "6\n",
      "3\n",
      "0\n",
      "10\n",
      "7\n",
      "4\n"
     ]
    }
   ],
   "source": [
    "for i in range(9):\n",
    "    print((704+10*i)%13)"
   ]
  },
  {
   "cell_type": "code",
   "execution_count": 11,
   "metadata": {},
   "outputs": [],
   "source": [
    "def index_to_list(n):\n",
    "    return [(i*10**(n-1))%13 for i in range(10)]"
   ]
  },
  {
   "cell_type": "code",
   "execution_count": 13,
   "metadata": {},
   "outputs": [
    {
     "data": {
      "text/plain": [
       "[0, 10, 7, 4, 1, 11, 8, 5, 2, 12]"
      ]
     },
     "execution_count": 13,
     "metadata": {},
     "output_type": "execute_result"
    }
   ],
   "source": [
    "index_to_list(2)"
   ]
  },
  {
   "cell_type": "code",
   "execution_count": 37,
   "metadata": {},
   "outputs": [],
   "source": [
    "def input_to_listlist(S):\n",
    "    listlist=[]\n",
    "    N=len(S)\n",
    "    for i in range(1,N+1):\n",
    "        if S[-i]=='?':\n",
    "            listlist.append(index_to_list(i))\n",
    "    return listlist"
   ]
  },
  {
   "cell_type": "code",
   "execution_count": 38,
   "metadata": {},
   "outputs": [],
   "source": [
    "def input_to_base(S):\n",
    "    new_S=''\n",
    "    for c in S:\n",
    "        if c=='?':\n",
    "            new_S+='0'\n",
    "        else:\n",
    "            new_S+=c\n",
    "    return int(new_S)"
   ]
  },
  {
   "cell_type": "code",
   "execution_count": 42,
   "metadata": {},
   "outputs": [],
   "source": [
    "listlist=input_to_listlist('??2??5')"
   ]
  },
  {
   "cell_type": "code",
   "execution_count": 44,
   "metadata": {},
   "outputs": [],
   "source": [
    "target=(5-input_to_base('??2??5'))%13"
   ]
  },
  {
   "cell_type": "code",
   "execution_count": 45,
   "metadata": {},
   "outputs": [
    {
     "data": {
      "text/plain": [
       "[[0, 10, 7, 4, 1, 11, 8, 5, 2, 12],\n",
       " [0, 9, 5, 1, 10, 6, 2, 11, 7, 3],\n",
       " [0, 3, 6, 9, 12, 2, 5, 8, 11, 1],\n",
       " [0, 4, 8, 12, 3, 7, 11, 2, 6, 10]]"
      ]
     },
     "execution_count": 45,
     "metadata": {},
     "output_type": "execute_result"
    }
   ],
   "source": [
    "listlist"
   ]
  },
  {
   "cell_type": "code",
   "execution_count": 19,
   "metadata": {},
   "outputs": [
    {
     "data": {
      "text/plain": [
       "3"
      ]
     },
     "execution_count": 19,
     "metadata": {},
     "output_type": "execute_result"
    }
   ],
   "source": [
    "def answer(listlist,target):\n",
    "    "
   ]
  },
  {
   "cell_type": "code",
   "execution_count": 20,
   "metadata": {},
   "outputs": [
    {
     "name": "stdout",
     "output_type": "stream",
     "text": [
      "[0, 10, 7, 4, 1, 11, 8, 5, 2, 12]\n",
      "[0, 9, 5, 1, 10, 6, 2, 11, 7, 3]\n",
      "[0, 3, 6, 9, 12, 2, 5, 8, 11, 1]\n",
      "[0, 4, 8, 12, 3, 7, 11, 2, 6, 10]\n"
     ]
    }
   ],
   "source": [
    "print(index_to_list(2))\n",
    "print(index_to_list(3))\n",
    "print(index_to_list(5))\n",
    "print(index_to_list(6))"
   ]
  },
  {
   "cell_type": "code",
   "execution_count": 24,
   "metadata": {},
   "outputs": [
    {
     "name": "stdout",
     "output_type": "stream",
     "text": [
      "768\n"
     ]
    }
   ],
   "source": [
    "list2=index_to_list(2)\n",
    "list3=index_to_list(3)\n",
    "list5=index_to_list(5)\n",
    "list6=index_to_list(6)\n",
    "count=0\n",
    "for i2 in list2:\n",
    "    for i3 in list3:\n",
    "        for i5 in list5:\n",
    "            for i6 in list6:\n",
    "                if (i2+i3+i5+i6)%13==(5-2005)%13:\n",
    "                    count+=1\n",
    "print(count)"
   ]
  },
  {
   "cell_type": "code",
   "execution_count": 25,
   "metadata": {},
   "outputs": [
    {
     "data": {
      "text/plain": [
       "2"
      ]
     },
     "execution_count": 25,
     "metadata": {},
     "output_type": "execute_result"
    }
   ],
   "source": [
    "(5-2005)%13"
   ]
  },
  {
   "cell_type": "code",
   "execution_count": 30,
   "metadata": {},
   "outputs": [
    {
     "name": "stdout",
     "output_type": "stream",
     "text": [
      "[10, 11, 12]\n",
      "[3, 6, 9]\n",
      "[4, 8, 12]\n",
      "[1, 2, 3]\n",
      "[4, 7, 10]\n",
      "[1, 5, 9]\n",
      "[10, 11, 12]\n",
      "[3, 6, 9]\n",
      "[4, 8, 12]\n"
     ]
    }
   ],
   "source": [
    "for i in range(1,10):\n",
    "    print([_ for _ in range(0,13) if _ not in index_to_list(i)])"
   ]
  },
  {
   "cell_type": "code",
   "execution_count": 31,
   "metadata": {},
   "outputs": [
    {
     "name": "stdout",
     "output_type": "stream",
     "text": [
      "[0, 1, 2, 3, 4, 5, 6, 7, 8, 9]\n",
      "[0, 10, 7, 4, 1, 11, 8, 5, 2, 12]\n",
      "[0, 9, 5, 1, 10, 6, 2, 11, 7, 3]\n",
      "[0, 12, 11, 10, 9, 8, 7, 6, 5, 4]\n",
      "[0, 3, 6, 9, 12, 2, 5, 8, 11, 1]\n",
      "[0, 4, 8, 12, 3, 7, 11, 2, 6, 10]\n",
      "[0, 1, 2, 3, 4, 5, 6, 7, 8, 9]\n",
      "[0, 10, 7, 4, 1, 11, 8, 5, 2, 12]\n",
      "[0, 9, 5, 1, 10, 6, 2, 11, 7, 3]\n",
      "[0, 12, 11, 10, 9, 8, 7, 6, 5, 4]\n",
      "[0, 3, 6, 9, 12, 2, 5, 8, 11, 1]\n",
      "[0, 4, 8, 12, 3, 7, 11, 2, 6, 10]\n",
      "[0, 1, 2, 3, 4, 5, 6, 7, 8, 9]\n",
      "[0, 10, 7, 4, 1, 11, 8, 5, 2, 12]\n",
      "[0, 9, 5, 1, 10, 6, 2, 11, 7, 3]\n",
      "[0, 12, 11, 10, 9, 8, 7, 6, 5, 4]\n",
      "[0, 3, 6, 9, 12, 2, 5, 8, 11, 1]\n",
      "[0, 4, 8, 12, 3, 7, 11, 2, 6, 10]\n",
      "[0, 1, 2, 3, 4, 5, 6, 7, 8, 9]\n"
     ]
    }
   ],
   "source": [
    "for i in range(1,20):\n",
    "    print(index_to_list(i))"
   ]
  },
  {
   "cell_type": "code",
   "execution_count": null,
   "metadata": {},
   "outputs": [],
   "source": []
  }
 ],
 "metadata": {
  "kernelspec": {
   "display_name": "Python 3",
   "language": "python",
   "name": "python3"
  },
  "language_info": {
   "codemirror_mode": {
    "name": "ipython",
    "version": 3
   },
   "file_extension": ".py",
   "mimetype": "text/x-python",
   "name": "python",
   "nbconvert_exporter": "python",
   "pygments_lexer": "ipython3",
   "version": "3.7.2"
  }
 },
 "nbformat": 4,
 "nbformat_minor": 2
}
