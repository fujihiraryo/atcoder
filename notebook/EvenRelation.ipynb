{
 "cells": [
  {
   "cell_type": "code",
   "execution_count": null,
   "metadata": {},
   "outputs": [],
   "source": [
    "import numpy as np\n",
    "N=int(input())\n",
    "G=[[] for n in range(N+1)]\n",
    "for n in range(N-1):\n",
    "    [u,v,w]=[int(_) for _ in input().split()]\n",
    "    G[u].append(v*((-1)**w))\n",
    "    G[v].append(u*((-1)**w))\n",
    "print(G)\n",
    "D=[-1 for n in range(N+1)]\n",
    "V=[0,1]\n",
    "while V!=[0]:\n",
    "    print(D)\n",
    "    print(V)\n",
    "    now=V[1]\n",
    "    for nex in G[now]:\n",
    "        if D[abs(nex)]==-1:\n",
    "            if np.sign(nex)==1:\n",
    "                D[abs(nex)]=D[now]%2\n",
    "            else:\n",
    "                D[abs(nex)]=(D[now]+1)%2\n",
    "            V.append(abs(nex))\n",
    "    V.pop(1)"
   ]
  },
  {
   "cell_type": "code",
   "execution_count": null,
   "metadata": {},
   "outputs": [],
   "source": [
    "import numpy as np\n",
    "N=int(input())\n",
    "G=[[] for n in range(N+1)]\n",
    "for n in range(N-1):\n",
    "    [u,v,w]=[int(_) for _ in input().split()]\n",
    "    G[u].append(v*((-1)**w))\n",
    "    G[v].append(u*((-1)**w))\n",
    "D=[-1 for n in range(N+1)]\n",
    "V=[0,1]\n",
    "while V!=[0]:\n",
    "    now=V[1]\n",
    "    for nex in G[now]:\n",
    "        if D[abs(nex)]==-1:\n",
    "            if np.sign(nex)==1:\n",
    "                D[abs(nex)]=D[now]%2\n",
    "            else:\n",
    "                D[abs(nex)]=(D[now]+1)%2\n",
    "            V.append(abs(nex))\n",
    "    V.pop(1)\n",
    "for n in range(1,N+1):\n",
    "    print(D[n])"
   ]
  },
  {
   "cell_type": "code",
   "execution_count": null,
   "metadata": {},
   "outputs": [],
   "source": []
  },
  {
   "cell_type": "code",
   "execution_count": null,
   "metadata": {},
   "outputs": [],
   "source": [
    "N=int(input())\n",
    "G=[[-1 for n in range(N+1)] for n in range(N+1)]\n",
    "for n in range(N-1):\n",
    "    [u,v,w]=[int(_) for _ in input().split()]\n",
    "    G[u][v]=w\n",
    "    G[v][u]=w"
   ]
  },
  {
   "cell_type": "code",
   "execution_count": 31,
   "metadata": {},
   "outputs": [
    {
     "name": "stdout",
     "output_type": "stream",
     "text": [
      "[[-1, -1, -1, -1, -1, -1], [-1, -1, -1, 8, -1, -1], [-1, -1, -1, 10, -1, 2], [-1, 8, 10, -1, 2, -1], [-1, -1, -1, 2, -1, -1], [-1, -1, 2, -1, -1, -1]]\n"
     ]
    }
   ],
   "source": [
    "print(G)"
   ]
  },
  {
   "cell_type": "code",
   "execution_count": 25,
   "metadata": {},
   "outputs": [
    {
     "ename": "IndexError",
     "evalue": "pop index out of range",
     "output_type": "error",
     "traceback": [
      "\u001b[0;31m---------------------------------------------------------------------------\u001b[0m",
      "\u001b[0;31mIndexError\u001b[0m                                Traceback (most recent call last)",
      "\u001b[0;32m<ipython-input-25-bee408351fb9>\u001b[0m in \u001b[0;36m<module>\u001b[0;34m()\u001b[0m\n\u001b[1;32m      1\u001b[0m \u001b[0mA\u001b[0m\u001b[0;34m=\u001b[0m\u001b[0;34m[\u001b[0m\u001b[0;36m3\u001b[0m\u001b[0;34m,\u001b[0m\u001b[0;36m2\u001b[0m\u001b[0;34m,\u001b[0m\u001b[0;36m1\u001b[0m\u001b[0;34m]\u001b[0m\u001b[0;34m\u001b[0m\u001b[0;34m\u001b[0m\u001b[0m\n\u001b[0;32m----> 2\u001b[0;31m \u001b[0mA\u001b[0m\u001b[0;34m.\u001b[0m\u001b[0mpop\u001b[0m\u001b[0;34m(\u001b[0m\u001b[0;36m3\u001b[0m\u001b[0;34m)\u001b[0m\u001b[0;34m\u001b[0m\u001b[0;34m\u001b[0m\u001b[0m\n\u001b[0m\u001b[1;32m      3\u001b[0m \u001b[0mprint\u001b[0m\u001b[0;34m(\u001b[0m\u001b[0mA\u001b[0m\u001b[0;34m)\u001b[0m\u001b[0;34m\u001b[0m\u001b[0;34m\u001b[0m\u001b[0m\n",
      "\u001b[0;31mIndexError\u001b[0m: pop index out of range"
     ]
    }
   ],
   "source": [
    "A=[3,2,1]\n",
    "A.pop(3)\n",
    "print(A)"
   ]
  },
  {
   "cell_type": "code",
   "execution_count": 18,
   "metadata": {},
   "outputs": [],
   "source": [
    "D=[-1 for n in range(N+1)]\n",
    "V=[0,1]\n",
    "while V!=[0]:\n",
    "    print(D)\n",
    "    print(V)\n",
    "    now=V[1]\n",
    "    for nex in G[now]:\n",
    "        if D[abs(nex)]==-1:\n",
    "            if np.sign(nex)==1:\n",
    "                D[abs(nex)]=D[now]%2\n",
    "            else:\n",
    "                D[abs(nex)]=(D[now]+1)%2\n",
    "    V.remove(1)"
   ]
  },
  {
   "cell_type": "code",
   "execution_count": 19,
   "metadata": {},
   "outputs": [
    {
     "data": {
      "text/plain": [
       "[-1, -1, -1, -1, -1, -1]"
      ]
     },
     "execution_count": 19,
     "metadata": {},
     "output_type": "execute_result"
    }
   ],
   "source": [
    "D"
   ]
  },
  {
   "cell_type": "code",
   "execution_count": 20,
   "metadata": {},
   "outputs": [
    {
     "data": {
      "text/plain": [
       "[0, 1]"
      ]
     },
     "execution_count": 20,
     "metadata": {},
     "output_type": "execute_result"
    }
   ],
   "source": [
    "V"
   ]
  },
  {
   "cell_type": "code",
   "execution_count": 28,
   "metadata": {},
   "outputs": [
    {
     "name": "stdout",
     "output_type": "stream",
     "text": [
      "[3, 4, 5]\n",
      "None\n"
     ]
    }
   ],
   "source": [
    "A=[2,3,4,5]\n",
    "a=A.remove(2)\n",
    "print(A)\n",
    "print(a)"
   ]
  },
  {
   "cell_type": "code",
   "execution_count": 29,
   "metadata": {},
   "outputs": [
    {
     "name": "stdout",
     "output_type": "stream",
     "text": [
      "[2, 3, 5]\n",
      "4\n"
     ]
    }
   ],
   "source": [
    "A=[2,3,4,5]\n",
    "a=A.pop(2)\n",
    "print(A)\n",
    "print(a)"
   ]
  },
  {
   "cell_type": "code",
   "execution_count": null,
   "metadata": {},
   "outputs": [],
   "source": []
  }
 ],
 "metadata": {
  "kernelspec": {
   "display_name": "Python 3",
   "language": "python",
   "name": "python3"
  },
  "language_info": {
   "codemirror_mode": {
    "name": "ipython",
    "version": 3
   },
   "file_extension": ".py",
   "mimetype": "text/x-python",
   "name": "python",
   "nbconvert_exporter": "python",
   "pygments_lexer": "ipython3",
   "version": "3.7.2"
  }
 },
 "nbformat": 4,
 "nbformat_minor": 2
}
