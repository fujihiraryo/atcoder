{
 "cells": [
  {
   "cell_type": "code",
   "execution_count": 3,
   "metadata": {},
   "outputs": [
    {
     "data": {
      "text/plain": [
       "6"
      ]
     },
     "execution_count": 3,
     "metadata": {},
     "output_type": "execute_result"
    }
   ],
   "source": [
    "3^5"
   ]
  },
  {
   "cell_type": "code",
   "execution_count": 43,
   "metadata": {},
   "outputs": [
    {
     "name": "stdin",
     "output_type": "stream",
     "text": [
      " 6\n",
      " 0 0 3 3 3 3\n"
     ]
    },
    {
     "name": "stdout",
     "output_type": "stream",
     "text": [
      "Yes\n"
     ]
    }
   ],
   "source": [
    "import collections\n",
    "N=int(input())\n",
    "a=list(map(int,input().split()))\n",
    "def judge(a):\n",
    "    if sum(a)==0:\n",
    "        return True\n",
    "    else:\n",
    "        a=dict(collections.Counter(a))\n",
    "        if len(a.keys())==3:\n",
    "            a0=list(a.keys())[0]\n",
    "            a1=list(a.keys())[1]\n",
    "            a2=list(a.keys())[2]\n",
    "            if a0^a1==a2 and a[a0]==a[a1] and a[a1]==a[a2]:\n",
    "                return True\n",
    "        if len(a.keys())==2:\n",
    "            a0=list(a.keys())[0]\n",
    "            a1=list(a.keys())[1]\n",
    "            if a0==0 or a1==0:\n",
    "                if a[a0]==2*a[a1] or a[a1]==2*a[a0]:\n",
    "                    return True\n",
    "    return False\n",
    "\n",
    "if judge(a):\n",
    "    print(\"Yes\")\n",
    "else:\n",
    "    print(\"No\")"
   ]
  },
  {
   "cell_type": "code",
   "execution_count": 31,
   "metadata": {},
   "outputs": [],
   "source": [
    "a=[1,2,3]\n",
    "a=dict(collections.Counter(a))\n",
    "a0=list(a.keys())[0]\n",
    "a1=list(a.keys())[0]\n",
    "a2=list(a.keys())[0]"
   ]
  },
  {
   "cell_type": "code",
   "execution_count": 33,
   "metadata": {},
   "outputs": [
    {
     "data": {
      "text/plain": [
       "(1, 1, 1)"
      ]
     },
     "execution_count": 33,
     "metadata": {},
     "output_type": "execute_result"
    }
   ],
   "source": [
    "a0,a1,a2"
   ]
  },
  {
   "cell_type": "code",
   "execution_count": 50,
   "metadata": {},
   "outputs": [
    {
     "data": {
      "text/plain": [
       "2"
      ]
     },
     "execution_count": 50,
     "metadata": {},
     "output_type": "execute_result"
    }
   ],
   "source": [
    "3^1"
   ]
  },
  {
   "cell_type": "code",
   "execution_count": 51,
   "metadata": {},
   "outputs": [
    {
     "data": {
      "text/plain": [
       "3"
      ]
     },
     "execution_count": 51,
     "metadata": {},
     "output_type": "execute_result"
    }
   ],
   "source": [
    "1^2"
   ]
  },
  {
   "cell_type": "code",
   "execution_count": 52,
   "metadata": {},
   "outputs": [
    {
     "data": {
      "text/plain": [
       "2"
      ]
     },
     "execution_count": 52,
     "metadata": {},
     "output_type": "execute_result"
    }
   ],
   "source": [
    "3^1"
   ]
  },
  {
   "cell_type": "code",
   "execution_count": 53,
   "metadata": {},
   "outputs": [
    {
     "name": "stdin",
     "output_type": "stream",
     "text": [
      " 4 4\n",
      " 1 2\n",
      " 2 3\n",
      " 3 4\n",
      " 4 1\n"
     ]
    },
    {
     "name": "stdout",
     "output_type": "stream",
     "text": [
      "[[1, 3], [0, 2], [1, 3], [2, 0]]\n"
     ]
    }
   ],
   "source": [
    "N,M=map(int,input().split())\n",
    "G=[[] for n in range(N)]\n",
    "for m in range(M):\n",
    "    a,b=map(int,input().split())\n",
    "    G[a-1].append(b-1)\n",
    "    G[b-1].append(a-1)\n",
    "print(G)"
   ]
  },
  {
   "cell_type": "code",
   "execution_count": null,
   "metadata": {},
   "outputs": [],
   "source": []
  }
 ],
 "metadata": {
  "kernelspec": {
   "display_name": "Python 3",
   "language": "python",
   "name": "python3"
  },
  "language_info": {
   "codemirror_mode": {
    "name": "ipython",
    "version": 3
   },
   "file_extension": ".py",
   "mimetype": "text/x-python",
   "name": "python",
   "nbconvert_exporter": "python",
   "pygments_lexer": "ipython3",
   "version": "3.7.2"
  }
 },
 "nbformat": 4,
 "nbformat_minor": 2
}
