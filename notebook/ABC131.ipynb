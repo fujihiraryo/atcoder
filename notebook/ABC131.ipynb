{
 "cells": [
  {
   "cell_type": "code",
   "execution_count": 3,
   "metadata": {},
   "outputs": [
    {
     "name": "stdin",
     "output_type": "stream",
     "text": [
      " 8080\n"
     ]
    },
    {
     "name": "stdout",
     "output_type": "stream",
     "text": [
      "Good\n"
     ]
    }
   ],
   "source": [
    "S=list(input())\n",
    "def answer(S):\n",
    "    for i in range(3):\n",
    "        s=S[i:i+2]\n",
    "        if s[0]==s[1]:\n",
    "            return 'Bad'\n",
    "    return 'Good'\n",
    "print(answer(S))"
   ]
  },
  {
   "cell_type": "code",
   "execution_count": 8,
   "metadata": {},
   "outputs": [
    {
     "data": {
      "text/plain": [
       "[1, 2]"
      ]
     },
     "execution_count": 8,
     "metadata": {},
     "output_type": "execute_result"
    }
   ],
   "source": [
    "A=[1,2,3]\n",
    "A.pop(2)\n",
    "A"
   ]
  },
  {
   "cell_type": "code",
   "execution_count": null,
   "metadata": {},
   "outputs": [],
   "source": [
    "[N,L]=[int(_) for _ in input().split()]\n",
    "A=[L+i for i in range(N)]\n",
    "minabs=1000\n",
    "for i in range(N):\n",
    "    if abs(A[i])<minabs:\n",
    "        eat=i\n",
    "        minabs=abs(A[i])\n",
    "A.pop(eat)\n",
    "print(sum(A))"
   ]
  },
  {
   "cell_type": "code",
   "execution_count": null,
   "metadata": {},
   "outputs": [],
   "source": [
    "def gcd(a,b):\n",
    "    a,b=max(a,b),min(a,b)\n",
    "    if a%b==0:\n",
    "        return b\n",
    "    else:\n",
    "        while a%b!=0:\n",
    "            c=a%b\n",
    "            a=b\n",
    "            b=c\n",
    "        return c\n",
    "\n",
    "[A,B,C,D]=[int(_) for _ in input().split()]\n",
    "E=C*D//gcd(C,D)\n",
    "X=(B//C)-((A-1)//C)\n",
    "Y=(B//D)-((A-1)//D)\n",
    "Z=(B//E)-((A-1)//E)\n",
    "N=B-A+1\n",
    "print(N-(X+Y-Z))\n",
    "print(X,Y,Z,N)"
   ]
  },
  {
   "cell_type": "code",
   "execution_count": 11,
   "metadata": {},
   "outputs": [],
   "source": [
    "def gcd(a,b):\n",
    "    a,b=max(a,b),min(a,b)\n",
    "    if a%b==0:\n",
    "        return b\n",
    "    else:\n",
    "        while a%b!=0:\n",
    "            c=a%b\n",
    "            a=b\n",
    "            b=c\n",
    "        return c"
   ]
  },
  {
   "cell_type": "code",
   "execution_count": 16,
   "metadata": {},
   "outputs": [
    {
     "data": {
      "text/plain": [
       "1"
      ]
     },
     "execution_count": 16,
     "metadata": {},
     "output_type": "execute_result"
    }
   ],
   "source": [
    "gcd(2,1)"
   ]
  },
  {
   "cell_type": "code",
   "execution_count": 17,
   "metadata": {},
   "outputs": [
    {
     "data": {
      "text/plain": [
       "4"
      ]
     },
     "execution_count": 17,
     "metadata": {},
     "output_type": "execute_result"
    }
   ],
   "source": [
    "9//2"
   ]
  },
  {
   "cell_type": "code",
   "execution_count": 18,
   "metadata": {},
   "outputs": [
    {
     "data": {
      "text/plain": [
       "1"
      ]
     },
     "execution_count": 18,
     "metadata": {},
     "output_type": "execute_result"
    }
   ],
   "source": [
    "3//2"
   ]
  },
  {
   "cell_type": "code",
   "execution_count": 19,
   "metadata": {},
   "outputs": [
    {
     "name": "stdout",
     "output_type": "stream",
     "text": [
      "3\n"
     ]
    }
   ],
   "source": [
    "A,B,C,D=4,9,2,3\n",
    "X=(B//C)-((A-1)//C)\n",
    "print(X)"
   ]
  },
  {
   "cell_type": "code",
   "execution_count": 23,
   "metadata": {},
   "outputs": [
    {
     "name": "stdout",
     "output_type": "stream",
     "text": [
      "[[4, 2], [8, 1], [9, 1], [9, 4], [12, 3]]\n",
      "[[4, 2], [8, 1], [9, 5], [12, 3]]\n"
     ]
    }
   ],
   "source": [
    "works=[[4,2],[8,1],[9,1],[9,4],[12,3]]\n",
    "works.sort()\n",
    "print(works)\n",
    "works2=[]\n",
    "now=0\n",
    "for work in works:\n",
    "    if work[0]==now:\n",
    "        works2[-1][1]+=work[1]\n",
    "    else:\n",
    "        works2.append(work)\n",
    "        now=work[0]\n",
    "print(works2)"
   ]
  },
  {
   "cell_type": "code",
   "execution_count": null,
   "metadata": {},
   "outputs": [],
   "source": [
    "N=int(input())\n",
    "works=[]\n",
    "for i in range(N):\n",
    "    [a,b]=[int(_) for _ in input().split()]\n",
    "    works.append([b,a])\n",
    "works.sort()\n",
    "works2=works[:1]\n",
    "for work in works[1:]:\n",
    "    if work[0]==works2[-1][0]:\n",
    "        works2[-1][1]+=work[1]\n",
    "    else:\n",
    "        works2.append([work[0],works2[-1][1]])\n",
    "        works2[-1][1]+=work[1]\n",
    "print(works2)\n",
    "if all([work[0]>work[1] for work in works2]):\n",
    "    print('Yes')\n",
    "else:\n",
    "    print('No')"
   ]
  },
  {
   "cell_type": "code",
   "execution_count": 24,
   "metadata": {},
   "outputs": [],
   "source": [
    "N=5\n",
    "edges=[]\n",
    "for i in range(1,5+1):\n",
    "    for j in range(1,5+1):\n",
    "        if i<j:\n",
    "            edges.append((i,j))"
   ]
  },
  {
   "cell_type": "code",
   "execution_count": 26,
   "metadata": {},
   "outputs": [
    {
     "name": "stdout",
     "output_type": "stream",
     "text": [
      "[(1, 2), (1, 3), (1, 4), (1, 5), (2, 3), (2, 4), (2, 5), (3, 4), (3, 5), (4, 5)]\n"
     ]
    }
   ],
   "source": [
    "print(edges)"
   ]
  },
  {
   "cell_type": "code",
   "execution_count": 28,
   "metadata": {},
   "outputs": [
    {
     "name": "stdout",
     "output_type": "stream",
     "text": [
      "1 2\n",
      "1 3\n",
      "1 4\n",
      "1 5\n",
      "2 3\n",
      "2 4\n",
      "2 5\n",
      "3 4\n",
      "3 5\n",
      "4 5\n"
     ]
    }
   ],
   "source": [
    "for e in edges:\n",
    "    print(e[0],e[1])"
   ]
  },
  {
   "cell_type": "code",
   "execution_count": 34,
   "metadata": {},
   "outputs": [
    {
     "name": "stdin",
     "output_type": "stream",
     "text": [
      " 5 3\n"
     ]
    },
    {
     "name": "stdout",
     "output_type": "stream",
     "text": [
      "7\n",
      "1 2\n",
      "1 3\n",
      "1 4\n",
      "1 5\n",
      "2 3\n",
      "2 4\n",
      "2 5\n"
     ]
    }
   ],
   "source": [
    "[N,K]=[int(_) for _ in input().split()]\n",
    "if K>(N-1)*(N-2)//2:\n",
    "    print(-1)\n",
    "else:\n",
    "    edges=[(1,n) for n in range(2,N+1)]\n",
    "    edges2=[(i,j) for i in range(2,N+1) for j in range(2,N+1) if i<j]\n",
    "    for i in range((N-1)*(N-2)//2-K):\n",
    "        edges.append(edges2[i])\n",
    "    print(N-1+(N-1)*(N-2)//2-K)\n",
    "    for e in edges:\n",
    "        print(e[0],e[1])"
   ]
  },
  {
   "cell_type": "code",
   "execution_count": 31,
   "metadata": {},
   "outputs": [
    {
     "name": "stdout",
     "output_type": "stream",
     "text": [
      "[(2, 3), (2, 4), (2, 5), (3, 4), (3, 5), (4, 5)]\n"
     ]
    }
   ],
   "source": [
    "N=5\n",
    "edges2=[(i,j) for i in range(2,N+1) for j in range(2,N+1) if i<j]\n",
    "print(edges2)"
   ]
  },
  {
   "cell_type": "code",
   "execution_count": null,
   "metadata": {},
   "outputs": [],
   "source": [
    "N=int(input())\n",
    "graph=set()\n",
    "for n in range(N):\n",
    "    [x,y]=[int(_) for _ in input().split()]\n",
    "    graph.add((x,y))\n",
    "\n"
   ]
  },
  {
   "cell_type": "code",
   "execution_count": 62,
   "metadata": {},
   "outputs": [],
   "source": [
    "def isReachable(graph,start,goal):\n",
    "    notVisited=[True for _ in range(10**5+1)]\n",
    "    stack=[start]\n",
    "    notVisited[start]=False\n",
    "    while len(stack)!=0:\n",
    "        visiting=stack.pop(0)\n",
    "        if visiting==goal:\n",
    "            return True\n",
    "        else:\n",
    "            for edge in graph:\n",
    "                if edge[0]==visiting and notVisited[edge[1]]:\n",
    "                    stack.append(edge[1])\n",
    "                    notVisited[edge[1]]==False\n",
    "    return False"
   ]
  },
  {
   "cell_type": "code",
   "execution_count": null,
   "metadata": {},
   "outputs": [],
   "source": [
    "def decomposition(graph):\n",
    "    decomposedGraphs=[]\n",
    "    "
   ]
  },
  {
   "cell_type": "code",
   "execution_count": 65,
   "metadata": {},
   "outputs": [
    {
     "data": {
      "text/plain": [
       "False"
      ]
     },
     "execution_count": 65,
     "metadata": {},
     "output_type": "execute_result"
    }
   ],
   "source": [
    "graph={(1,2),(2,3),(4,5)}\n",
    "isReachable(graph,1,4)"
   ]
  },
  {
   "cell_type": "code",
   "execution_count": 59,
   "metadata": {},
   "outputs": [
    {
     "name": "stdout",
     "output_type": "stream",
     "text": [
      "{(1, 2), (3, 2)}\n"
     ]
    }
   ],
   "source": [
    "A={(1,2),(3,2)}\n",
    "print(A)"
   ]
  },
  {
   "cell_type": "code",
   "execution_count": 55,
   "metadata": {},
   "outputs": [
    {
     "data": {
      "text/plain": [
       "{1, 2}"
      ]
     },
     "execution_count": 55,
     "metadata": {},
     "output_type": "execute_result"
    }
   ],
   "source": [
    "set((1,2))"
   ]
  },
  {
   "cell_type": "code",
   "execution_count": 44,
   "metadata": {},
   "outputs": [],
   "source": [
    "A=set()"
   ]
  },
  {
   "cell_type": "code",
   "execution_count": 45,
   "metadata": {},
   "outputs": [],
   "source": [
    "A.add(2)"
   ]
  },
  {
   "cell_type": "code",
   "execution_count": 46,
   "metadata": {},
   "outputs": [
    {
     "data": {
      "text/plain": [
       "{2}"
      ]
     },
     "execution_count": 46,
     "metadata": {},
     "output_type": "execute_result"
    }
   ],
   "source": [
    "A"
   ]
  },
  {
   "cell_type": "code",
   "execution_count": 47,
   "metadata": {},
   "outputs": [
    {
     "name": "stdout",
     "output_type": "stream",
     "text": [
      "2\n"
     ]
    }
   ],
   "source": [
    "for a in A:\n",
    "    print(a)"
   ]
  },
  {
   "cell_type": "code",
   "execution_count": 50,
   "metadata": {},
   "outputs": [],
   "source": [
    "import time"
   ]
  },
  {
   "cell_type": "code",
   "execution_count": null,
   "metadata": {},
   "outputs": [],
   "source": []
  },
  {
   "cell_type": "code",
   "execution_count": 54,
   "metadata": {},
   "outputs": [
    {
     "name": "stdout",
     "output_type": "stream",
     "text": [
      "5.696120023727417\n"
     ]
    }
   ],
   "source": [
    "N=10**8\n",
    "start=time.time()\n",
    "for i in range(N):\n",
    "    a=1\n",
    "stop=time.time()\n",
    "print(stop-start)"
   ]
  },
  {
   "cell_type": "code",
   "execution_count": null,
   "metadata": {},
   "outputs": [],
   "source": []
  }
 ],
 "metadata": {
  "kernelspec": {
   "display_name": "Python 3",
   "language": "python",
   "name": "python3"
  },
  "language_info": {
   "codemirror_mode": {
    "name": "ipython",
    "version": 3
   },
   "file_extension": ".py",
   "mimetype": "text/x-python",
   "name": "python",
   "nbconvert_exporter": "python",
   "pygments_lexer": "ipython3",
   "version": "3.7.2"
  }
 },
 "nbformat": 4,
 "nbformat_minor": 2
}
