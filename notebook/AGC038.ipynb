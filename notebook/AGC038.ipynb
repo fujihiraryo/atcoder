{
 "cells": [
  {
   "cell_type": "code",
   "execution_count": 2,
   "metadata": {},
   "outputs": [
    {
     "name": "stdin",
     "output_type": "stream",
     "text": [
      " 1 5 2 0\n"
     ]
    },
    {
     "name": "stdout",
     "output_type": "stream",
     "text": [
      "11000\n"
     ]
    }
   ],
   "source": [
    "H,W,A,B=map(int,input().split())\n",
    "for b in range(B):\n",
    "    print('0'*A+'1'*(W-A))\n",
    "for b in range(H-B):\n",
    "    print('1'*A+'0'*(W-A))"
   ]
  },
  {
   "cell_type": "code",
   "execution_count": 18,
   "metadata": {},
   "outputs": [
    {
     "name": "stdin",
     "output_type": "stream",
     "text": [
      " 5 3\n",
      " 0 2 1 4 3\n"
     ]
    },
    {
     "name": "stdout",
     "output_type": "stream",
     "text": [
      "[[0, 1, 2, 4, 3], [0, 1, 2, 4, 3], [0, 2, 1, 3, 4]]\n"
     ]
    }
   ],
   "source": [
    "N,K=map(int,input().split())\n",
    "P=list(map(int,input().split()))\n",
    "L=[]\n",
    "for i in range(N-K+1):\n",
    "    L.append((P[:i]+sorted(P[i:i+K])+P[i+K:]))\n",
    "print(count(L))"
   ]
  }
 ],
 "metadata": {
  "kernelspec": {
   "display_name": "Python 3",
   "language": "python",
   "name": "python3"
  },
  "language_info": {
   "codemirror_mode": {
    "name": "ipython",
    "version": 3
   },
   "file_extension": ".py",
   "mimetype": "text/x-python",
   "name": "python",
   "nbconvert_exporter": "python",
   "pygments_lexer": "ipython3",
   "version": "3.7.2"
  }
 },
 "nbformat": 4,
 "nbformat_minor": 2
}
