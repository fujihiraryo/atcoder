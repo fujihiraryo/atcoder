{
 "cells": [
  {
   "cell_type": "code",
   "execution_count": 1,
   "metadata": {},
   "outputs": [
    {
     "data": {
      "text/plain": [
       "2"
      ]
     },
     "execution_count": 1,
     "metadata": {},
     "output_type": "execute_result"
    }
   ],
   "source": [
    "1+1"
   ]
  },
  {
   "cell_type": "code",
   "execution_count": 4,
   "metadata": {},
   "outputs": [
    {
     "name": "stdin",
     "output_type": "stream",
     "text": [
      " 8 3 9\n"
     ]
    },
    {
     "name": "stdout",
     "output_type": "stream",
     "text": [
      "4\n"
     ]
    }
   ],
   "source": [
    "A,B,C=map(int,input().split())\n",
    "print(max(C-A+B,0))"
   ]
  },
  {
   "cell_type": "code",
   "execution_count": 7,
   "metadata": {},
   "outputs": [
    {
     "name": "stdin",
     "output_type": "stream",
     "text": [
      " 136\n"
     ]
    },
    {
     "name": "stdout",
     "output_type": "stream",
     "text": [
      "46\n"
     ]
    }
   ],
   "source": [
    "N=int(input())\n",
    "count=0\n",
    "for i in range(1,N+1):\n",
    "    if len(str(i))%2==1:\n",
    "        count+=1\n",
    "print(count)"
   ]
  },
  {
   "cell_type": "code",
   "execution_count": 5,
   "metadata": {},
   "outputs": [
    {
     "name": "stdout",
     "output_type": "stream",
     "text": [
      "90909\n"
     ]
    }
   ],
   "source": [
    "N=10**5\n",
    "count=0\n",
    "for i in range(1,N+1):\n",
    "    if len(str(i))%2==1:\n",
    "        count+=1\n",
    "print(count)"
   ]
  },
  {
   "cell_type": "code",
   "execution_count": 13,
   "metadata": {},
   "outputs": [
    {
     "name": "stdin",
     "output_type": "stream",
     "text": [
      " 1\n",
      " 1000000000000\n"
     ]
    },
    {
     "name": "stdout",
     "output_type": "stream",
     "text": [
      "Yes\n"
     ]
    }
   ],
   "source": [
    "N=int(input())\n",
    "H=list(map(int,input().split()))\n",
    "okflag=1\n",
    "downflag=0\n",
    "for i in range(N-1):\n",
    "    left=H[i]\n",
    "    right=H[i+1]\n",
    "    if left-1>right:\n",
    "        okflag=0\n",
    "    if left-1==right and downflag==0:\n",
    "        downflag=1\n",
    "    if left-1==right and downflag==1:\n",
    "        okflag=0\n",
    "    if left<=right:\n",
    "        downflag=0\n",
    "print(['No','Yes'][okflag])"
   ]
  },
  {
   "cell_type": "code",
   "execution_count": 19,
   "metadata": {},
   "outputs": [
    {
     "name": "stdin",
     "output_type": "stream",
     "text": [
      " 5\n",
      " 1 2 1 1 3\n"
     ]
    },
    {
     "name": "stdout",
     "output_type": "stream",
     "text": [
      "No\n"
     ]
    }
   ],
   "source": [
    "N=int(input())\n",
    "H=list(map(int,input().split()))\n",
    "H1=[H[i]-H[i+1]>=1 for i in range(N-1)]\n",
    "H2=[H[i] and H[i+1] for i in range(N-2)]\n",
    "if any(H2):\n",
    "    print('No')\n",
    "else:\n",
    "    print('Yes')\n",
    "print()"
   ]
  },
  {
   "cell_type": "code",
   "execution_count": 41,
   "metadata": {},
   "outputs": [],
   "source": [
    "for i in range(10,1):\n",
    "    print(i)"
   ]
  },
  {
   "cell_type": "code",
   "execution_count": 38,
   "metadata": {},
   "outputs": [
    {
     "name": "stdin",
     "output_type": "stream",
     "text": [
      " RRLRL\n"
     ]
    },
    {
     "name": "stdout",
     "output_type": "stream",
     "text": [
      "[2, 1, 1, 1]\n",
      "0 1 2 1 1\n"
     ]
    }
   ],
   "source": [
    "S=input()\n",
    "N=len(S)\n",
    "count_list=[]\n",
    "S+='R'\n",
    "now=1\n",
    "count=0\n",
    "for c in S:\n",
    "    if c==['L','R'][now]:\n",
    "        count+=1\n",
    "    if c!=['L','R'][now]:\n",
    "        count_list.append(count)\n",
    "        count=1\n",
    "        now=(now+1)%2\n",
    "\n",
    "answer=[]\n",
    "M=len(count_list)//2\n",
    "for j in range(M):\n",
    "    left=count_list[2*j]\n",
    "    right=count_list[2*j+1]\n",
    "    if (left+right)%2==0:\n",
    "        answer+=[0]*(left-1)+[(left+right)//2]*2+[0]*(right-1)\n",
    "    else:\n",
    "        if left%2==0:\n",
    "            answer+=[0]*(left-1)+[(left+right-1)//2]+[(left+right+1)//2]+[0]*(right-1)\n",
    "        else:\n",
    "            answer+=[0]*(left-1)+[(left+right+1)//2]+[(left+right-1)//2]+[0]*(right-1)\n",
    "print(*answer)"
   ]
  },
  {
   "cell_type": "code",
   "execution_count": 30,
   "metadata": {},
   "outputs": [
    {
     "name": "stdout",
     "output_type": "stream",
     "text": [
      "1 2 3\n"
     ]
    }
   ],
   "source": [
    "print(*[1,2,3])"
   ]
  },
  {
   "cell_type": "code",
   "execution_count": null,
   "metadata": {},
   "outputs": [],
   "source": []
  }
 ],
 "metadata": {
  "kernelspec": {
   "display_name": "Python 3",
   "language": "python",
   "name": "python3"
  },
  "language_info": {
   "codemirror_mode": {
    "name": "ipython",
    "version": 3
   },
   "file_extension": ".py",
   "mimetype": "text/x-python",
   "name": "python",
   "nbconvert_exporter": "python",
   "pygments_lexer": "ipython3",
   "version": "3.7.2"
  }
 },
 "nbformat": 4,
 "nbformat_minor": 2
}
