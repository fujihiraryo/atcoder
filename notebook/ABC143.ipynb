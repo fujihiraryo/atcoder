{
 "cells": [
  {
   "cell_type": "code",
   "execution_count": 2,
   "metadata": {},
   "outputs": [
    {
     "name": "stdin",
     "output_type": "stream",
     "text": [
      " 20 15\n"
     ]
    },
    {
     "name": "stdout",
     "output_type": "stream",
     "text": [
      "0\n"
     ]
    }
   ],
   "source": [
    "A,B=map(int,input().split())\n",
    "print(max(A-B*2,0))"
   ]
  },
  {
   "cell_type": "code",
   "execution_count": 4,
   "metadata": {},
   "outputs": [
    {
     "name": "stdin",
     "output_type": "stream",
     "text": [
      " 7\n",
      " 5 0 7 8 3 3 2\n"
     ]
    },
    {
     "name": "stdout",
     "output_type": "stream",
     "text": [
      "312\n"
     ]
    }
   ],
   "source": [
    "N=int(input())\n",
    "d=list(map(int,input().split()))\n",
    "a=0\n",
    "for i in range(N):\n",
    "    for j in range(i+1,N):\n",
    "        a+=d[i]*d[j]\n",
    "print(a)"
   ]
  },
  {
   "cell_type": "code",
   "execution_count": 8,
   "metadata": {},
   "outputs": [
    {
     "name": "stdin",
     "output_type": "stream",
     "text": [
      " 5\n",
      " aaaaa\n"
     ]
    },
    {
     "name": "stdout",
     "output_type": "stream",
     "text": [
      "1\n"
     ]
    }
   ],
   "source": [
    "N=int(input())\n",
    "S=list(input())\n",
    "S=['0']+S\n",
    "count=0\n",
    "for n in range(N):\n",
    "    a=S[n]\n",
    "    b=S[n+1]\n",
    "    count+=int(a!=b)\n",
    "print(count)"
   ]
  },
  {
   "cell_type": "code",
   "execution_count": 21,
   "metadata": {},
   "outputs": [
    {
     "name": "stdout",
     "output_type": "stream",
     "text": [
      "1\n",
      "2\n"
     ]
    }
   ],
   "source": [
    "import bisect\n",
    "print(bisect.bisect_left([1,2,3,4],2))\n",
    "print(bisect.bisect_right([1,2,3,4],2))"
   ]
  },
  {
   "cell_type": "code",
   "execution_count": 33,
   "metadata": {},
   "outputs": [
    {
     "name": "stdin",
     "output_type": "stream",
     "text": [
      " 4\n",
      " 3 4 2 1\n"
     ]
    },
    {
     "name": "stdout",
     "output_type": "stream",
     "text": [
      "1\n"
     ]
    }
   ],
   "source": [
    "import bisect\n",
    "N=int(input())\n",
    "L=list(map(int,input().split()))\n",
    "L.sort()\n",
    "count=0\n",
    "for i in range(N-2):\n",
    "    for j in range(i+1,N-1):\n",
    "        a=L[i]\n",
    "        b=L[j]\n",
    "        count+=bisect.bisect_left(L,a+b)-(j+1)\n",
    "print(count)"
   ]
  },
  {
   "cell_type": "code",
   "execution_count": 4,
   "metadata": {},
   "outputs": [
    {
     "data": {
      "text/plain": [
       "True"
      ]
     },
     "execution_count": 4,
     "metadata": {},
     "output_type": "execute_result"
    }
   ],
   "source": [
    "inf=float(\"inf\")\n",
    "inf==inf"
   ]
  },
  {
   "cell_type": "code",
   "execution_count": null,
   "metadata": {},
   "outputs": [],
   "source": []
  },
  {
   "cell_type": "code",
   "execution_count": 5,
   "metadata": {},
   "outputs": [
    {
     "data": {
      "text/plain": [
       "array([[0., 3., 6.],\n",
       "       [3., 0., 3.],\n",
       "       [6., 3., 0.]])"
      ]
     },
     "execution_count": 5,
     "metadata": {},
     "output_type": "execute_result"
    }
   ],
   "source": [
    "from scipy.sparse.csgraph import floyd_warshall\n",
    "graph=[[0,3,100],[3,0,3],[100,3,0]]\n",
    "floyd_warshall(graph)"
   ]
  },
  {
   "cell_type": "code",
   "execution_count": 4,
   "metadata": {},
   "outputs": [
    {
     "name": "stdin",
     "output_type": "stream",
     "text": [
      " 3 2 5\n",
      " 1 2 3\n",
      " 2 3 3\n"
     ]
    },
    {
     "name": "stdout",
     "output_type": "stream",
     "text": [
      "[[0, 3, 6], [3, 0, 3], [6, 3, 0]]\n",
      "[[0, 1, 2], [1, 0, 1], [2, 1, 0]]\n"
     ]
    },
    {
     "name": "stdin",
     "output_type": "stream",
     "text": [
      " 2\n",
      " 3 2\n"
     ]
    },
    {
     "name": "stdout",
     "output_type": "stream",
     "text": [
      "0\n"
     ]
    },
    {
     "name": "stdin",
     "output_type": "stream",
     "text": [
      " 1 3\n"
     ]
    },
    {
     "name": "stdout",
     "output_type": "stream",
     "text": [
      "1\n"
     ]
    }
   ],
   "source": [
    "from scipy.sparse.csgraph import floyd_warshall\n",
    "N,M,L=map(int,input().split())\n",
    "inf=10**9+1\n",
    "\n",
    "distance=[[inf for n in range(N)] for n in range(N)]\n",
    "for n in range(N):\n",
    "    distance[n][n]=0\n",
    "for m in range(M):\n",
    "    a,b,c=map(int,input().split())\n",
    "    distance[a-1][b-1]=c\n",
    "    distance[b-1][a-1]=c\n",
    "distance=floyd_warshall(distance)\n",
    "\n",
    "distance2=[[inf for n in range(N)] for n in range(N)]\n",
    "for i in range(N):\n",
    "    for j in range(N):\n",
    "        if distance[i][j]<=L:\n",
    "            distance2[i][j]=1\n",
    "for n in range(N):\n",
    "    distance2[n][n]=0\n",
    "distance2=floyd_warshall(distance2)\n",
    "\n",
    "Q=int(input())\n",
    "for q in range(Q):\n",
    "    s,t=map(int,input().split())\n",
    "    if distance2[s-1][t-1]==inf:\n",
    "        print(-1)\n",
    "    else:\n",
    "        print(int(distance2[s-1][t-1]-1))"
   ]
  },
  {
   "cell_type": "code",
   "execution_count": 8,
   "metadata": {},
   "outputs": [
    {
     "data": {
      "text/plain": [
       "[2, 2, 5]"
      ]
     },
     "execution_count": 8,
     "metadata": {},
     "output_type": "execute_result"
    }
   ],
   "source": [
    "from collections import Counter\n",
    "A=[1,1,2,2,3,3,3,3,3]\n",
    "C=Counter(A)\n",
    "list(C.values())"
   ]
  },
  {
   "cell_type": "code",
   "execution_count": 9,
   "metadata": {},
   "outputs": [
    {
     "data": {
      "text/plain": [
       "[1]"
      ]
     },
     "execution_count": 9,
     "metadata": {},
     "output_type": "execute_result"
    }
   ],
   "source": [
    "[1,2][:-1]"
   ]
  },
  {
   "cell_type": "code",
   "execution_count": 18,
   "metadata": {},
   "outputs": [
    {
     "name": "stdin",
     "output_type": "stream",
     "text": [
      " 3\n",
      " 2 1 2\n"
     ]
    },
    {
     "name": "stdout",
     "output_type": "stream",
     "text": [
      "3\n",
      "1\n",
      "0\n"
     ]
    }
   ],
   "source": [
    "from collections import Counter\n",
    "N=int(input())\n",
    "A=list(map(int,input().split()))\n",
    "C=list(Counter(A).values())\n",
    "C.sort()\n",
    "\n",
    "def ans(C,k):\n",
    "    if C==[]:\n",
    "        return 0\n",
    "    elif sum(C)>=k*C[-1]:\n",
    "        return sum(C)//k\n",
    "    else:\n",
    "        return ans(C[:-1],k-1)\n",
    "\n",
    "for k in range(1,N+1):\n",
    "    print(ans(C,k))"
   ]
  },
  {
   "cell_type": "code",
   "execution_count": 20,
   "metadata": {},
   "outputs": [
    {
     "data": {
      "text/plain": [
       "[1, 3, 6]"
      ]
     },
     "execution_count": 20,
     "metadata": {},
     "output_type": "execute_result"
    }
   ],
   "source": [
    "C=[1,2,3]\n",
    "N=len(C)\n",
    "S=[sum(C[0:n+1]) for n in range(N)]\n",
    "S"
   ]
  },
  {
   "cell_type": "code",
   "execution_count": 50,
   "metadata": {},
   "outputs": [
    {
     "name": "stdin",
     "output_type": "stream",
     "text": [
      " 3\n",
      " 2 1 2\n"
     ]
    },
    {
     "name": "stdout",
     "output_type": "stream",
     "text": [
      "3\n",
      "1\n",
      "0\n"
     ]
    }
   ],
   "source": [
    "from collections import Counter\n",
    "import bisect\n",
    "N=int(input())\n",
    "A=list(map(int,input().split()))\n",
    "C=list(Counter(A).values())\n",
    "C.sort()\n",
    "L=len(C)\n",
    "\n",
    "# Cのうちx以上のものの個数D[x]を計算(x=1,...,N)\n",
    "D=[L-bisect.bisect_left(C,x) for x in range(N+1)]\n",
    "S=[0]\n",
    "for n in range(1,N+1):\n",
    "    S.append(S[-1]+D[n])\n",
    "\n",
    "# T[x]=S[x]/x(x=1,...,N)としてKをbisect_rightで挿入した時のindexが答え\n",
    "T=[x/S[x] for x in range(1,N+1)]\n",
    "for K in range(1,N+1):\n",
    "    print(bisect.bisect_right(T,1/K))"
   ]
  }
 ],
 "metadata": {
  "kernelspec": {
   "display_name": "Python 3",
   "language": "python",
   "name": "python3"
  },
  "language_info": {
   "codemirror_mode": {
    "name": "ipython",
    "version": 3
   },
   "file_extension": ".py",
   "mimetype": "text/x-python",
   "name": "python",
   "nbconvert_exporter": "python",
   "pygments_lexer": "ipython3",
   "version": "3.7.3"
  }
 },
 "nbformat": 4,
 "nbformat_minor": 2
}
